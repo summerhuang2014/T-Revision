{
 "cells": [
  {
   "cell_type": "code",
   "execution_count": 1,
   "metadata": {},
   "outputs": [],
   "source": [
    "import numpy as np\n",
    "#import tools"
   ]
  },
  {
   "cell_type": "code",
   "execution_count": 3,
   "metadata": {},
   "outputs": [],
   "source": [
    "#verify if the order is the same as the training order. yes.\n",
    "#get the training labels\n",
    "#make empty matrix\n",
    "#for each class\n",
    "#    get the indices of the samples with class i\n",
    "#    get corresponding entries in the prob_\n",
    "#    for each class:\n",
    "#        compute mean\n",
    "#        fill in the corresponding entry of the matrix"
   ]
  },
  {
   "cell_type": "code",
   "execution_count": 31,
   "metadata": {},
   "outputs": [],
   "source": [
    "num = 4\n",
    "model_index = 19"
   ]
  },
  {
   "cell_type": "code",
   "execution_count": 32,
   "metadata": {},
   "outputs": [
    {
     "name": "stdout",
     "output_type": "stream",
     "text": [
      "(20, 60000, 10)\n"
     ]
    }
   ],
   "source": [
    "y_train = np.load('./mnist/mnist-train_labels.npy')\n",
    "\n",
    "#prob_save_dir='./50_sym_cf10/prob_'+str(num)+'/cifar10/noise_rate_0.0/'\n",
    "prob_save_dir='./mnist/mnist_sym_80/'\n",
    "A_save_dir = prob_save_dir + str(num) + '_prob.npy'\n",
    "#np.save(A_save_dir, A)           \n",
    "prob_ = np.load(A_save_dir)\n",
    "print(prob_.shape)\n",
    "num_classes = 10\n",
    "\n",
    "best = prob_[model_index, :, :]\n",
    "\n",
    "indices_list = {}\n",
    "Q = np.empty((num_classes, num_classes))\n",
    "for c in range(num_classes):\n",
    "    indices_list[c] = [x for x in range(len(y_train)) if y_train[x] == c]\n",
    "    temp = best[indices_list[c], :]\n",
    "    #print(c, temp.shape)\n",
    "    for j in range(num_classes):\n",
    "        Q[c, j] = np.mean(temp[:, j])\n",
    "        \n",
    "import csv\n",
    "\n",
    "record_file = prob_save_dir+'mnist_sym_80_avg_prior.csv'\n",
    "#rc = {}\n",
    "#rc['true T'] = True_T\n",
    "#rc['initial T'] = T\n",
    "#for ke in rc:\n",
    "with open(record_file, 'a', newline='') as csvFile:\n",
    "    writer = csv.writer(csvFile)\n",
    "    writer.writerow('trial')\n",
    "    for roww in range(Q.shape[0]):\n",
    "        writer.writerow(np.array(Q[roww, :]))\n",
    "csvFile.close()"
   ]
  },
  {
   "cell_type": "code",
   "execution_count": 6,
   "metadata": {},
   "outputs": [
    {
     "name": "stdout",
     "output_type": "stream",
     "text": [
      "[[0.2794 0.0625 0.0746 0.0768 0.0979 0.0685 0.0662 0.0678 0.1249 0.0813]\n",
      " [0.0619 0.3664 0.0525 0.0544 0.0682 0.0576 0.0644 0.0643 0.0862 0.124 ]\n",
      " [0.101  0.0516 0.256  0.096  0.1005 0.0939 0.1001 0.0718 0.0623 0.0667]\n",
      " [0.0724 0.0595 0.0841 0.2311 0.0835 0.1341 0.1163 0.0784 0.0671 0.0734]\n",
      " [0.0776 0.0539 0.0991 0.0831 0.2685 0.0879 0.1098 0.0964 0.0579 0.0657]\n",
      " [0.071  0.0597 0.0685 0.1379 0.0742 0.2897 0.0829 0.0875 0.0605 0.068 ]\n",
      " [0.0597 0.0502 0.0787 0.0721 0.0816 0.0639 0.4139 0.0559 0.0626 0.0612]\n",
      " [0.064  0.0607 0.0671 0.077  0.1009 0.0924 0.0745 0.3412 0.0599 0.0623]\n",
      " [0.0681 0.058  0.0516 0.0688 0.0677 0.0625 0.0622 0.068  0.4151 0.0778]\n",
      " [0.0669 0.0801 0.0554 0.0658 0.0634 0.0587 0.0628 0.0797 0.0744 0.3928]]\n"
     ]
    }
   ],
   "source": [
    "print(np.around(Q, decimals=4))"
   ]
  },
  {
   "cell_type": "code",
   "execution_count": null,
   "metadata": {},
   "outputs": [],
   "source": []
  }
 ],
 "metadata": {
  "kernelspec": {
   "display_name": "Python 3",
   "language": "python",
   "name": "python3"
  },
  "language_info": {
   "codemirror_mode": {
    "name": "ipython",
    "version": 3
   },
   "file_extension": ".py",
   "mimetype": "text/x-python",
   "name": "python",
   "nbconvert_exporter": "python",
   "pygments_lexer": "ipython3",
   "version": "3.7.3"
  }
 },
 "nbformat": 4,
 "nbformat_minor": 2
}
